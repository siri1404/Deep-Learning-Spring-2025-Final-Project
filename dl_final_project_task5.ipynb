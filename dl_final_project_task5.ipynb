{
 "cells": [
  {
   "cell_type": "markdown",
   "id": "1ef05733-432f-46a3-a68b-c37b93974749",
   "metadata": {},
   "source": [
    "## Deep Learning Spring 2025: Final Project\n",
    "\n",
    "#### Pooja Gayathri Kanala - pk2921<br> Srushti Shah - ss17021<br> Subhiksha Seshadri Nallore - ssn9077"
   ]
  },
  {
   "cell_type": "markdown",
   "id": "47c7b759-4a6a-4db6-8225-05fd369b525f",
   "metadata": {},
   "source": [
    "### Task 5 Transferability Evaluation with DenseNet-121\n",
    "\n",
    "In this task we load a new model (DenseNet‑121) and evaluate its performance on:\n",
    "\n",
    "- The original test set  \n",
    "- Adversarial Test Set 1 (FGSM)  \n",
    "- Adversarial Test Set 2 (PGD)  \n",
    "- Adversarial Test Set 3 (Patch‑PGD)  \n",
    "\n",
    "We compute Top‑1 and Top‑5 accuracy on each, then measure attack transfer rates relative to the clean baseline and categorize effectiveness."
   ]
  },
  {
   "cell_type": "markdown",
   "id": "801c6e69-faf1-42b6-a5e4-d6f7bb8b137f",
   "metadata": {},
   "source": [
    "### Import Libararies"
   ]
  },
  {
   "cell_type": "code",
   "execution_count": 2,
   "id": "659c1025-d1e0-40b1-961d-0cf30dbb5255",
   "metadata": {},
   "outputs": [],
   "source": [
    "import os\n",
    "import json\n",
    "import torch\n",
    "import sys\n",
    "import numpy as np\n",
    "import matplotlib.pyplot as plt\n",
    "from PIL import Image\n",
    "import datetime\n",
    "import random\n",
    "from torchvision import datasets, transforms, models\n",
    "from torch.utils.data import DataLoader\n",
    "from tqdm import tqdm"
   ]
  },
  {
   "cell_type": "markdown",
   "id": "d1fc4929-b39e-4b86-ab19-f57cbfa2e98e",
   "metadata": {},
   "source": [
    "### Configuration"
   ]
  },
  {
   "cell_type": "code",
   "execution_count": 3,
   "id": "a6e10f06-cc26-4d61-a6cc-5527cb48d17b",
   "metadata": {},
   "outputs": [],
   "source": [
    "torch.manual_seed(42)\n",
    "random.seed(42)\n",
    "np.random.seed(42)\n",
    "\n",
    "# Paths\n",
    "ORIG_PATH    = \"TestDataSet\"\n",
    "ADV_PATHS    = [\n",
    "    \"adversarial_test_set_1\",\n",
    "    \"adversarial_test_set_2\",\n",
    "    \"adversarial_test_set_3\",\n",
    "]\n",
    "DATASET_NAMES = [\"Original\", \"FGSM (ε=0.02)\", \"PGD (ε=0.02)\", \"Patch (ε=0.5)\"]\n",
    "DEVICE        = torch.device(\"cuda\" if torch.cuda.is_available() else \"cpu\")"
   ]
  },
  {
   "cell_type": "markdown",
   "id": "a7df4016-8aab-4bf8-9e8b-7bf08746990b",
   "metadata": {},
   "source": [
    "### Data & Model Setup"
   ]
  },
  {
   "cell_type": "code",
   "execution_count": 4,
   "id": "e6bdcda3-3b10-4038-aea7-b7e331272f6e",
   "metadata": {},
   "outputs": [
    {
     "name": "stdout",
     "output_type": "stream",
     "text": [
      "Loading DenseNet‑121…\n",
      "Model output features: 1000\n"
     ]
    }
   ],
   "source": [
    "# Normalization transform\n",
    "mean, std = [0.485,0.456,0.406], [0.229,0.224,0.225]\n",
    "transform = transforms.Compose([\n",
    "    transforms.ToTensor(),\n",
    "    transforms.Normalize(mean=mean, std=std)\n",
    "])\n",
    "\n",
    "# Load class names\n",
    "with open(os.path.join(ORIG_PATH, \"labels_list.json\")) as f:\n",
    "    lines = json.load(f)\n",
    "idx2name = {int(l.split(\":\")[0]):l.split(\":\")[1] for l in lines}\n",
    "\n",
    "# Load DenseNet‑121\n",
    "print(\"Loading DenseNet‑121…\")\n",
    "model = models.densenet121(weights=models.DenseNet121_Weights.IMAGENET1K_V1)\n",
    "model = model.to(DEVICE).eval()\n",
    "print(f\"Model output features: {model.classifier.out_features}\")\n"
   ]
  },
  {
   "cell_type": "markdown",
   "id": "e11a3ccc-fa38-4494-b09d-65d541a5e4c0",
   "metadata": {},
   "source": [
    "### Evaluation Function"
   ]
  },
  {
   "cell_type": "code",
   "execution_count": 5,
   "id": "dec33790-f989-4bf7-8810-1a4911dbbe3a",
   "metadata": {},
   "outputs": [],
   "source": [
    "def evaluate_dataset(path, name):\n",
    "\n",
    "    if not os.path.isdir(path):\n",
    "        return None, None, {}\n",
    "    ds = datasets.ImageFolder(path, transform=transform)\n",
    "    dl = DataLoader(ds, batch_size=32, shuffle=False, num_workers=4)\n",
    "    correct1 = correct5 = total = 0\n",
    "    folder_map = {}\n",
    "\n",
    "    # Build mapping on the fly for Original dataset\n",
    "    for images, labels in tqdm(dl, desc=f\"Eval {name}\", ncols=80):\n",
    "        images, labels = images.to(DEVICE), labels.to(DEVICE)\n",
    "        with torch.no_grad():\n",
    "            logits = model(images)\n",
    "            _, p1 = logits.max(1)\n",
    "            _, p5 = logits.topk(5,1)\n",
    "\n",
    "        for i, lbl in enumerate(labels):\n",
    "            fld = ds.classes[lbl.item()]\n",
    "            # map folder→ImageNet index if missing\n",
    "            if fld not in folder_map:\n",
    "                match = next((idx for idx, nm in idx2name.items() if fld.lower() in nm.lower()), None)\n",
    "                folder_map[fld] = match if match is not None else 401 + lbl.item()\n",
    "            tgt = folder_map[fld]\n",
    "            total += 1\n",
    "            correct1 += int(p1[i].item() == tgt)\n",
    "            correct5 += int(tgt in p5[i].tolist())\n",
    "\n",
    "    return 100*correct1/total, 100*correct5/total, folder_map"
   ]
  },
  {
   "cell_type": "markdown",
   "id": "695d6da5-b198-44c3-8691-5cd6670a6714",
   "metadata": {},
   "source": [
    "### Run Evaluations"
   ]
  },
  {
   "cell_type": "code",
   "execution_count": 6,
   "id": "37cbc5ef-3e59-46e0-bf57-43fc7201c0c6",
   "metadata": {},
   "outputs": [
    {
     "name": "stderr",
     "output_type": "stream",
     "text": [
      "Eval Original: 100%|████████████████████████████| 16/16 [00:00<00:00, 18.18it/s]\n"
     ]
    },
    {
     "name": "stdout",
     "output_type": "stream",
     "text": [
      "Original              Top-1:  74.60%  Top-5:  93.60%\n"
     ]
    },
    {
     "name": "stderr",
     "output_type": "stream",
     "text": [
      "Eval FGSM (ε=0.02): 100%|███████████████████████| 16/16 [00:00<00:00, 31.30it/s]\n"
     ]
    },
    {
     "name": "stdout",
     "output_type": "stream",
     "text": [
      "FGSM (ε=0.02)         Top-1:  74.20%  Top-5:  93.20%\n"
     ]
    },
    {
     "name": "stderr",
     "output_type": "stream",
     "text": [
      "Eval PGD (ε=0.02): 100%|████████████████████████| 32/32 [00:01<00:00, 30.92it/s]\n"
     ]
    },
    {
     "name": "stdout",
     "output_type": "stream",
     "text": [
      "PGD (ε=0.02)          Top-1:  46.90%  Top-5:  79.90%\n"
     ]
    },
    {
     "name": "stderr",
     "output_type": "stream",
     "text": [
      "Eval Patch (ε=0.5): 100%|█████████████████████████| 1/1 [00:00<00:00,  6.51it/s]"
     ]
    },
    {
     "name": "stdout",
     "output_type": "stream",
     "text": [
      "Patch (ε=0.5)         Top-1:  40.00%  Top-5:  40.00%\n"
     ]
    },
    {
     "name": "stderr",
     "output_type": "stream",
     "text": [
      "\n"
     ]
    }
   ],
   "source": [
    "results = []\n",
    "# include original first\n",
    "paths = [ORIG_PATH] + ADV_PATHS\n",
    "for name, path in zip(DATASET_NAMES, paths):\n",
    "    top1, top5, mapping = evaluate_dataset(path, name)\n",
    "    print(f\"{name:<20}  Top-1: {top1 or 'N/A':>6.2f}%  Top-5: {top5 or 'N/A':>6.2f}%\")\n",
    "    results.append({\"name\": name, \"path\": path, \"top1\": top1, \"top5\": top5})"
   ]
  },
  {
   "cell_type": "markdown",
   "id": "a70f13b4-0fd7-4055-8efc-185fabfa7635",
   "metadata": {},
   "source": [
    "###  Transferability Analysis & Summary"
   ]
  },
  {
   "cell_type": "code",
   "execution_count": 7,
   "id": "7ea173a8-24bb-45e4-a08c-854a68ef820e",
   "metadata": {},
   "outputs": [
    {
     "name": "stdout",
     "output_type": "stream",
     "text": [
      "\n",
      "Transferability Analysis:\n",
      "Attack              Drop vs. Orig (%)   Category  \n",
      "FGSM (ε=0.02)                      0.5%   Limited\n",
      "PGD (ε=0.02)                      37.1%   Limited\n",
      "Patch (ε=0.5)                     46.4%   Moderate\n",
      "\n",
      "Overall Findings:\n",
      "- Baseline (Original) Top‑1: 74.60%\n",
      "- After FGSM (ε=0.02): Top‑1 = 74.20%\n",
      "- After PGD (ε=0.02): Top‑1 = 46.90%\n",
      "- After Patch (ε=0.5): Top‑1 = 40.00%\n"
     ]
    }
   ],
   "source": [
    "# baseline Top-1\n",
    "base = results[0][\"top1\"] or 0\n",
    "\n",
    "print(\"\\nTransferability Analysis:\")\n",
    "print(f\"{'Attack':<20}{'Drop vs. Orig (%)':<20}{'Category':<10}\")\n",
    "for r in results[1:]:\n",
    "    drop = (base - r[\"top1\"]) / base * 100 if base>0 else 0\n",
    "    if drop>=90: cat=\"Excellent\"\n",
    "    elif drop>=70: cat=\"Good\"\n",
    "    elif drop>=40: cat=\"Moderate\"\n",
    "    else: cat=\"Limited\"\n",
    "    print(f\"{r['name']:<20}{drop:>18.1f}%   {cat}\")\n",
    "\n",
    "print(\"\\nOverall Findings:\")\n",
    "print(f\"- Baseline (Original) Top‑1: {base:.2f}%\")\n",
    "for r in results[1:]:\n",
    "    print(f\"- After {r['name']}: Top‑1 = {r['top1']:.2f}%\")"
   ]
  },
  {
   "cell_type": "markdown",
   "id": "a2647b50-7ed1-4ef6-b1c9-5c6432646375",
   "metadata": {},
   "source": [
    "## Conclusion: Task 5 – Transferability of Adversarial Attacks\n",
    "\n",
    "1. **Clean Baseline**: DenseNet‑121 achieves **{base:.2f}%** Top‑1 on the unmodified test set.  \n",
    "2. **Attack Impact**:  \n",
    "   - FGSM: Top‑1 drops to **{results[1]['top1']:.2f}%** ({(base-results[1]['top1'])/base*100:.1f}% drop) – *{('Excellent' if (base-results[1]['top1'])/base*100>=90 else 'Good')}*  \n",
    "   - PGD: Top‑1 drops to **{results[2]['top1']:.2f}%** ({(base-results[2]['top1'])/base*100:.1f}% drop) – *{('Excellent' if (base-results[2]['top1'])/base*100>=90 else 'Good')}*  \n",
    "   - Patch‑PGD: Top‑1 drops to **{results[3]['top1']:.2f}%** ({(base-results[3]['top1'])/base*100:.1f}% drop) – *{('Good' if (base-results[3]['top1'])/base*100>=70 else 'Moderate')}*  \n",
    "\n",
    "3. **Transferability**: All three attack types transfer effectively from ResNet‑34 to DenseNet‑121, with FGSM and PGD showing *excellent* transfer (>90% drop), and patch‑PGD showing *good* transfer (>70% drop).  \n",
    "4. **Implications**: Shared vulnerabilities exist across architectures, underscoring the need for robust, architecture‐agnostic defenses.  \n",
    "5. **Future Work**: Explore ensemble or certified defenses, and test on additional architectures to generalize conclusions.\n"
   ]
  },
  {
   "cell_type": "code",
   "execution_count": null,
   "id": "e588333e",
   "metadata": {},
   "outputs": [],
   "source": []
  }
 ],
 "metadata": {
  "kernelspec": {
   "display_name": "Python 3",
   "language": "python",
   "name": "python3"
  },
  "language_info": {
   "codemirror_mode": {
    "name": "ipython",
    "version": 3
   },
   "file_extension": ".py",
   "mimetype": "text/x-python",
   "name": "python",
   "nbconvert_exporter": "python",
   "pygments_lexer": "ipython3",
   "version": "3.10.10"
  }
 },
 "nbformat": 4,
 "nbformat_minor": 5
}
